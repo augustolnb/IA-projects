{
  "nbformat": 4,
  "nbformat_minor": 0,
  "metadata": {
    "colab": {
      "provenance": [],
      "authorship_tag": "ABX9TyPzi0e4ODvO+Jmo/Om+Hupo",
      "include_colab_link": true
    },
    "kernelspec": {
      "name": "python3",
      "display_name": "Python 3"
    },
    "language_info": {
      "name": "python"
    },
    "accelerator": "GPU",
    "gpuClass": "standard"
  },
  "cells": [
    {
      "cell_type": "markdown",
      "metadata": {
        "id": "view-in-github",
        "colab_type": "text"
      },
      "source": [
        "<a href=\"https://colab.research.google.com/github/augustolnb/IA-projects/blob/main/house_value_model.ipynb\" target=\"_parent\"><img src=\"https://colab.research.google.com/assets/colab-badge.svg\" alt=\"Open In Colab\"/></a>"
      ]
    },
    {
      "cell_type": "code",
      "execution_count": 1,
      "metadata": {
        "id": "jj5AqpIyFcC9"
      },
      "outputs": [],
      "source": [
        "import numpy as np\n",
        "import matplotlib.pyplot as plt\n",
        "#import warnings\n",
        "\n",
        "# área construida [feature]\n",
        "x = np.array([40, 45, 50, 55, 60, 70, 80, 86, 90, 100, 110, 111, 120, 132, 140, 149, 160, 171, 180, 191]).reshape(-1,1)\n",
        "# valor do mercado das casas [variável]\n",
        "y = np.array([51000, 62000, 70100, 75245, 82200, 91200, 101000, 110200, 120000, 130000, 150000, 170000, 180000, 190000, 200000, 205000, 210000, 220000, 235000, 250000]).reshape(-1, 1)\n"
      ]
    },
    {
      "cell_type": "code",
      "source": [
        "# Visualizando os dados iniciais\n",
        "\n",
        "plt.scatter(x,y)\n",
        "plt.xlabel(\"Área construida\")\n",
        "plt.ylabel(\"Valor de mercado\")\n",
        "plt.show()"
      ],
      "metadata": {
        "colab": {
          "base_uri": "https://localhost:8080/",
          "height": 279
        },
        "id": "BczSYoQJJUq2",
        "outputId": "9bd5f9ab-25b7-42fc-ff66-f941a892b8e4"
      },
      "execution_count": 2,
      "outputs": [
        {
          "output_type": "display_data",
          "data": {
            "text/plain": [
              "<Figure size 432x288 with 1 Axes>"
            ],
            "image/png": "[encoded data removed]"
          },
          "metadata": {
            "needs_background": "light"
          }
        }
      ]
    },
    {
      "cell_type": "code",
      "source": [
        "# Pré processamento dos dados\n",
        "\n",
        "from sklearn.preprocessing import StandardScaler\n",
        "\n",
        "# verificação de média e desvio padrão antes da normalização\n",
        "print(\"Média de X: {:.1f}\\nDesvio padrão de X: {:.1f}\".format(np.mean(x), np.std(x)))\n",
        "\n",
        "# fazendo a normalização dos dados\n",
        "ss = StandardScaler()\n",
        "x = ss.fit_transform(x)\n",
        "y = ss.fit_transform(y)\n",
        "# Fórmula usada na implementação do método fit_transform()\n",
        "#\n",
        "# x = x - (x.mean())\n",
        "#    ----------------\n",
        "#        x.std()\n",
        "\n",
        "# verificação de média e desvio padrão pós normalização\n",
        "print(\"Média de X: {:.1f}\\nDesvio padrão de X: {:.1f}\".format(np.mean(x), np.std(x)))\n",
        "\n"
      ],
      "metadata": {
        "colab": {
          "base_uri": "https://localhost:8080/"
        },
        "id": "ZykNpOfeKCK6",
        "outputId": "7912f4a3-5be5-4d06-ee8c-473bcd16752e"
      },
      "execution_count": 3,
      "outputs": [
        {
          "output_type": "stream",
          "name": "stdout",
          "text": [
            "Média de X: 107.0\n",
            "Desvio padrão de X: 46.0\n",
            "Média de X: 0.0\n",
            "Desvio padrão de X: 1.0\n"
          ]
        }
      ]
    },
    {
      "cell_type": "code",
      "source": [
        "# Visualizando os dados normalizados\n",
        "\n",
        "plt.scatter(x,y)\n",
        "plt.xlabel(\"Área construida [Normalizada]\")\n",
        "plt.ylabel(\"Valor de mercado [Normalizado]\")\n",
        "plt.show()"
      ],
      "metadata": {
        "colab": {
          "base_uri": "https://localhost:8080/",
          "height": 281
        },
        "id": "IbTqzNQmNv0X",
        "outputId": "62f28fa5-8499-488c-b3d8-8eba8a35f7ba"
      },
      "execution_count": 4,
      "outputs": [
        {
          "output_type": "display_data",
          "data": {
            "text/plain": [
              "<Figure size 432x288 with 1 Axes>"
            ],
            "image/png": "[encoded data removed]"
          },
          "metadata": {
            "needs_background": "light"
          }
        }
      ]
    },
    {
      "cell_type": "code",
      "source": [
        "# Separando os conjuntos de dados - treinamento e teste\n",
        "\n",
        "from sklearn.model_selection import train_test_split\n",
        "\n",
        "x_treino, x_teste, y_treino, y_teste = train_test_split(x,y,test_size=0.3, random_state=25)"
      ],
      "metadata": {
        "id": "F1QCCq3GN6QM"
      },
      "execution_count": 5,
      "outputs": []
    },
    {
      "cell_type": "code",
      "source": [
        "# Definindo o modelo da rede\n",
        "\n",
        "from keras.models import Sequential\n",
        "from keras.layers import Dense\n",
        "from keras.optimizers import Adam\n",
        "\n",
        "model = Sequential([\n",
        "    Dense(units=1, input_shape=(1,), activation='relu'), \n",
        "    Dense(units=3, input_shape=(1,), activation='relu'),\n",
        "    Dense(units=1)\n",
        "    ])\n",
        "#model.summary()\n",
        "\n",
        "model.compile(optimizer=Adam(learning_rate=0.1), loss='mean_squared_error', )\n",
        "model.fit(x=x_treino, y=y_treino, epochs=20, validation_data=(x_teste, y_teste))"
      ],
      "metadata": {
        "id": "v7MhL4fvPBQj"
      },
      "execution_count": null,
      "outputs": []
    },
    {
      "cell_type": "code",
      "source": [
        "# visualiza predições\n",
        "\n",
        "def checa_predicoes(model, x, y):\n",
        "    y_pred = model.predict(x)\n",
        "    plt.scatter(x, y, c='b', alpha=0.5, label=\"Data\")\n",
        "    plt.scatter(x, y_pred, c='r', label=\"Model\")\n",
        "    plt.legend(loc=0)\n",
        "    plt.show()\n",
        "    \n",
        "checa_predicoes(model, x_treino, y_treino)"
      ],
      "metadata": {
        "colab": {
          "base_uri": "https://localhost:8080/",
          "height": 282
        },
        "id": "BZSsje9RQ3iV",
        "outputId": "fe855ef7-1774-4d96-9800-267ae1ee9555"
      },
      "execution_count": 21,
      "outputs": [
        {
          "output_type": "stream",
          "name": "stdout",
          "text": [
            "1/1 [==============================] - 0s 51ms/step\n"
          ]
        },
        {
          "output_type": "display_data",
          "data": {
            "text/plain": [
              "<Figure size 432x288 with 1 Axes>"
            ],
            "image/png": "[encoded data removed]"
          },
          "metadata": {
            "needs_background": "light"
          }
        }
      ]
    }
  ]
}