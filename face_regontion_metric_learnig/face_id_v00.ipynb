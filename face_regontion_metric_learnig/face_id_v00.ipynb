{
  "nbformat": 4,
  "nbformat_minor": 0,
  "metadata": {
    "colab": {
      "provenance": []
    },
    "kernelspec": {
      "name": "python3",
      "display_name": "Python 3"
    },
    "language_info": {
      "name": "python"
    }
  },
  "cells": [
    {
      "cell_type": "code",
      "execution_count": 1,
      "metadata": {
        "id": "BE4Nn6QdNMz2"
      },
      "outputs": [],
      "source": [
        "#Bibliotecas\n",
        "import os\n",
        "import cv2\n",
        "import numpy as np\n",
        "import tensorflow as tf\n",
        "from google.colab import drive\n",
        "from tensorflow.keras.models import Sequential\n",
        "from tensorflow.keras.layers import Dense, Dropout\n",
        "from sklearn.model_selection import train_test_split\n",
        "from tensorflow.keras.preprocessing.image import ImageDataGenerator"
      ]
    },
    {
      "cell_type": "markdown",
      "source": [
        "Utilizando um dataset localizado no google drive é possível treinar o modelo e rotulá-lo"
      ],
      "metadata": {
        "id": "iIvR1LsVObr7"
      }
    },
    {
      "cell_type": "code",
      "source": [
        "drive.mount('/content/drive')\n",
        "\n",
        "# Caminho da pasta raiz contendo as subpastas\n",
        "dataset = \"/content/drive/MyDrive/IA_Projects/Face_Recognition/faces_dataset/partial_dataset\"\n",
        "\n",
        "# Rotula dataset\n",
        "labels = []\n",
        "for foldername in os.listdir(dataset):\n",
        "    labels.append(foldername)\n",
        "labels = np.array(labels)\n",
        "#print(\"Número de rótulos encontrados:\", len(labels))\n",
        "#print(\"Rótulos encontrados:\", labels)\n",
        "#np.save(\"rotulos.npy\", labels)\n",
        "\n",
        "# Define numero de pessoas no dataset\n",
        "n_classes = len(labels)"
      ],
      "metadata": {
        "colab": {
          "base_uri": "https://localhost:8080/"
        },
        "id": "3FqOAwuJNk9k",
        "outputId": "c816eea4-d0ae-417e-9d8b-88b54bc50cc0"
      },
      "execution_count": 2,
      "outputs": [
        {
          "output_type": "stream",
          "name": "stdout",
          "text": [
            "Mounted at /content/drive\n"
          ]
        }
      ]
    },
    {
      "cell_type": "markdown",
      "source": [
        "Pré processa as imagens, configura-se o shape das imagens  "
      ],
      "metadata": {
        "id": "n-YD3HBSOqaD"
      }
    },
    {
      "cell_type": "code",
      "source": [
        "datagen = ImageDataGenerator(rescale=1./255,\n",
        "                                   shear_range=0.2, #cisalhamento - trans. geometrica que distorce a imagem e simula angulação em imagens reais 0.2rad\n",
        "                                   zoom_range=0.2,\n",
        "                                   horizontal_flip=True) # tecnica de espelhamento, serve para aumentar os dados e treinar o modelo para angulos diferentes\n",
        "\n",
        "num_samples = len(datagen.flow_from_directory(dataset, batch_size=16, shuffle=False).filenames)\n",
        "\n",
        "# Ajuste de formato das imagens\n",
        "train_generator = datagen.flow_from_directory(\n",
        "    \n",
        "    dataset,\n",
        "    target_size=(112, 112),\n",
        "    batch_size=16,\n",
        "    shuffle=False,\n",
        "    class_mode='categorical')\n",
        "\n",
        "x, y = train_generator.next()\n",
        "\n",
        "X_train, X_val, y_train, y_val = train_test_split(x, y, test_size=0.2, random_state=42)\n"
      ],
      "metadata": {
        "colab": {
          "base_uri": "https://localhost:8080/"
        },
        "id": "DSV6AkiiNoeL",
        "outputId": "b9bb7fa3-0ac1-49a9-dd86-3a55a89836e7"
      },
      "execution_count": 3,
      "outputs": [
        {
          "output_type": "stream",
          "name": "stdout",
          "text": [
            "Found 2484 images belonging to 579 classes.\n",
            "Found 2484 images belonging to 579 classes.\n"
          ]
        }
      ]
    },
    {
      "cell_type": "code",
      "source": [
        "model = tf.keras.models.Sequential([\n",
        "    # primeira camada convolucional\n",
        "    tf.keras.layers.Conv2D(32, (3, 3), activation='relu', input_shape=(112, 112, 3)),\n",
        "    tf.keras.layers.MaxPooling2D((2, 2)),\n",
        "    # segunda camada convolucional\n",
        "    tf.keras.layers.Conv2D(64, (3, 3), activation='relu'),\n",
        "    tf.keras.layers.MaxPooling2D((2, 2)),\n",
        "    # terceira camada convolucional\n",
        "    tf.keras.layers.Conv2D(128, (3, 3), activation='relu'),\n",
        "    tf.keras.layers.MaxPooling2D((2, 2)),\n",
        "    # quarta camada convolucional\n",
        "    tf.keras.layers.Conv2D(128, (3, 3), activation='relu'),\n",
        "    tf.keras.layers.MaxPooling2D((2, 2)),\n",
        "    tf.keras.layers.Flatten(),\n",
        "    tf.keras.layers.Dense(512, activation='relu'),\n",
        "    tf.keras.layers.Dropout(0.2),\n",
        "    tf.keras.layers.Dense(n_classes, activation='softmax')])\n",
        "\n",
        "model.compile(optimizer='adam', loss='categorical_crossentropy', metrics=['categorical_accuracy'])"
      ],
      "metadata": {
        "id": "C0pSUglNNzBq"
      },
      "execution_count": 4,
      "outputs": []
    },
    {
      "cell_type": "code",
      "source": [
        "model.fit(X_train, y_train, batch_size=64, epochs=20, validation_data=(X_val, y_val))\n"
      ],
      "metadata": {
        "colab": {
          "base_uri": "https://localhost:8080/"
        },
        "id": "vegcH2udN0t4",
        "outputId": "cdcee90d-0668-4b6a-89b1-24784fa9db52"
      },
      "execution_count": 5,
      "outputs": [
        {
          "output_type": "stream",
          "name": "stdout",
          "text": [
            "Epoch 1/20\n",
            "1/1 [==============================] - 2s 2s/step - loss: 6.3877 - categorical_accuracy: 0.0000e+00 - val_loss: 6.0749 - val_categorical_accuracy: 0.2500\n",
            "Epoch 2/20\n",
            "1/1 [==============================] - 0s 278ms/step - loss: 5.7826 - categorical_accuracy: 0.4167 - val_loss: 5.1842 - val_categorical_accuracy: 0.2500\n",
            "Epoch 3/20\n",
            "1/1 [==============================] - 0s 290ms/step - loss: 4.1898 - categorical_accuracy: 0.4167 - val_loss: 4.9907 - val_categorical_accuracy: 0.2500\n",
            "Epoch 4/20\n",
            "1/1 [==============================] - 0s 271ms/step - loss: 2.0171 - categorical_accuracy: 0.4167 - val_loss: 8.4177 - val_categorical_accuracy: 0.2500\n",
            "Epoch 5/20\n",
            "1/1 [==============================] - 0s 265ms/step - loss: 1.6844 - categorical_accuracy: 0.6667 - val_loss: 11.2909 - val_categorical_accuracy: 0.2500\n",
            "Epoch 6/20\n",
            "1/1 [==============================] - 0s 273ms/step - loss: 1.9439 - categorical_accuracy: 0.4167 - val_loss: 12.4526 - val_categorical_accuracy: 0.2500\n",
            "Epoch 7/20\n",
            "1/1 [==============================] - 0s 279ms/step - loss: 1.5003 - categorical_accuracy: 0.4167 - val_loss: 12.8550 - val_categorical_accuracy: 0.0000e+00\n",
            "Epoch 8/20\n",
            "1/1 [==============================] - 0s 251ms/step - loss: 1.4000 - categorical_accuracy: 0.2500 - val_loss: 11.5327 - val_categorical_accuracy: 0.0000e+00\n",
            "Epoch 9/20\n",
            "1/1 [==============================] - 0s 263ms/step - loss: 0.9654 - categorical_accuracy: 0.4167 - val_loss: 10.7937 - val_categorical_accuracy: 0.2500\n",
            "Epoch 10/20\n",
            "1/1 [==============================] - 0s 267ms/step - loss: 1.2590 - categorical_accuracy: 0.5000 - val_loss: 10.0091 - val_categorical_accuracy: 0.2500\n",
            "Epoch 11/20\n",
            "1/1 [==============================] - 0s 297ms/step - loss: 0.9741 - categorical_accuracy: 0.3333 - val_loss: 9.1560 - val_categorical_accuracy: 0.2500\n",
            "Epoch 12/20\n",
            "1/1 [==============================] - 0s 266ms/step - loss: 1.0120 - categorical_accuracy: 0.5000 - val_loss: 8.2789 - val_categorical_accuracy: 0.0000e+00\n",
            "Epoch 13/20\n",
            "1/1 [==============================] - 0s 263ms/step - loss: 1.0851 - categorical_accuracy: 0.5000 - val_loss: 7.3354 - val_categorical_accuracy: 0.2500\n",
            "Epoch 14/20\n",
            "1/1 [==============================] - 0s 263ms/step - loss: 0.9107 - categorical_accuracy: 0.6667 - val_loss: 6.5820 - val_categorical_accuracy: 0.2500\n",
            "Epoch 15/20\n",
            "1/1 [==============================] - 0s 266ms/step - loss: 1.0286 - categorical_accuracy: 0.5833 - val_loss: 6.1967 - val_categorical_accuracy: 0.2500\n",
            "Epoch 16/20\n",
            "1/1 [==============================] - 0s 262ms/step - loss: 0.9959 - categorical_accuracy: 0.4167 - val_loss: 6.1738 - val_categorical_accuracy: 0.2500\n",
            "Epoch 17/20\n",
            "1/1 [==============================] - 0s 275ms/step - loss: 0.9613 - categorical_accuracy: 0.6667 - val_loss: 6.4615 - val_categorical_accuracy: 0.2500\n",
            "Epoch 18/20\n",
            "1/1 [==============================] - 0s 266ms/step - loss: 0.9874 - categorical_accuracy: 0.4167 - val_loss: 6.9212 - val_categorical_accuracy: 0.2500\n",
            "Epoch 19/20\n",
            "1/1 [==============================] - 0s 271ms/step - loss: 0.8651 - categorical_accuracy: 0.6667 - val_loss: 7.5029 - val_categorical_accuracy: 0.2500\n",
            "Epoch 20/20\n",
            "1/1 [==============================] - 0s 265ms/step - loss: 1.0434 - categorical_accuracy: 0.5833 - val_loss: 7.8783 - val_categorical_accuracy: 0.2500\n"
          ]
        },
        {
          "output_type": "execute_result",
          "data": {
            "text/plain": [
              "<keras.callbacks.History at 0x7fa19a24de50>"
            ]
          },
          "metadata": {},
          "execution_count": 5
        }
      ]
    }
  ]
}