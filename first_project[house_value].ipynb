{
  "nbformat": 4,
  "nbformat_minor": 0,
  "metadata": {
    "colab": {
      "provenance": [],
      "authorship_tag": "ABX9TyO6oBpbPkDyLoLpnWO01rYE",
      "include_colab_link": true
    },
    "kernelspec": {
      "name": "python3",
      "display_name": "Python 3"
    },
    "language_info": {
      "name": "python"
    }
  },
  "cells": [
    {
      "cell_type": "markdown",
      "metadata": {
        "id": "view-in-github",
        "colab_type": "text"
      },
      "source": [
        "<a href=\"https://colab.research.google.com/github/augustolnb/IA-projects/blob/main/first_project%5Bhouse_value%5D.ipynb\" target=\"_parent\"><img src=\"https://colab.research.google.com/assets/colab-badge.svg\" alt=\"Open In Colab\"/></a>"
      ]
    },
    {
      "cell_type": "code",
      "execution_count": 9,
      "metadata": {
        "id": "jj5AqpIyFcC9"
      },
      "outputs": [],
      "source": [
        "import numpy as np\n",
        "import matplotlib.pyplot as plt\n",
        "#import warnings\n",
        "\n",
        "# área construida [feature]\n",
        "x = np.array([40, 45, 50, 55, 60, 70, 80, 86, 90, 100, 110, 111, 120, 132, 140, 149, 160, 171, 180, 191]).reshape(-1,1)\n",
        "# valor do mercado das casas [variável]\n",
        "y = np.array([51000, 62000, 70100, 75245, 82200, 91200, 101000, 110200, 120000, 130000, 150000, 170000, 180000, 190000, 200000, 205000, 210000, 220000, 235000, 250000]).reshape(-1, 1)\n"
      ]
    },
    {
      "cell_type": "code",
      "source": [
        "# Visualizando os dados iniciais\n",
        "\n",
        "plt.scatter(x,y)\n",
        "plt.xlabel(\"Área construida\")\n",
        "plt.ylabel(\"Valor de mercado\")\n",
        "plt.show()"
      ],
      "metadata": {
        "colab": {
          "base_uri": "https://localhost:8080/",
          "height": 279
        },
        "id": "BczSYoQJJUq2",
        "outputId": "8b9b4936-5187-4b20-a693-ccf22fab2dbf"
      },
      "execution_count": 10,
      "outputs": [
        {
          "output_type": "display_data",
          "data": {
            "text/plain": [
              "<Figure size 432x288 with 1 Axes>"
            ],
            "image/png": "[encoded data removed]"
          },
          "metadata": {
            "needs_background": "light"
          }
        }
      ]
    },
    {
      "cell_type": "code",
      "source": [
        "# Pré processamento dos dados\n",
        "\n",
        "from sklearn.preprocessing import StandardScaler\n",
        "\n",
        "# verificação de média e desvio padrão antes da normalização\n",
        "print(\"Média de X: {:.1f}\\nDesvio padrão de X: {:.1f}\".format(np.mean(x), np.std(x)))\n",
        "\n",
        "# fazendo a normalização dos dados\n",
        "ss = StandardScaler()\n",
        "x = ss.fit_transform(x)\n",
        "y = ss.fit_transform(y)\n",
        "# Fórmula usada na implementação do método fit_transform()\n",
        "#\n",
        "# x = x - (x.mean())\n",
        "#    ----------------\n",
        "#        x.std()\n",
        "\n",
        "# verificação de média e desvio padrão pós normalização\n",
        "print(\"Média de X: {:.1f}\\nDesvio padrão de X: {:.1f}\".format(np.mean(x), np.std(x)))\n",
        "\n"
      ],
      "metadata": {
        "colab": {
          "base_uri": "https://localhost:8080/"
        },
        "id": "ZykNpOfeKCK6",
        "outputId": "acdde467-2679-49bf-9cb9-8c147b9078b2"
      },
      "execution_count": 11,
      "outputs": [
        {
          "output_type": "stream",
          "name": "stdout",
          "text": [
            "Média de X: 107.0\n",
            "Desvio padrão de X: 46.0\n",
            "Média de X: 0.0\n",
            "Desvio padrão de X: 1.0\n"
          ]
        }
      ]
    },
    {
      "cell_type": "code",
      "source": [
        "# Visualizando os dados normalizados\n",
        "\n",
        "plt.scatter(x,y)\n",
        "plt.xlabel(\"Área construida [Normalizada]\")\n",
        "plt.ylabel(\"Valor de mercado [Normalizado]\")\n",
        "plt.show()"
      ],
      "metadata": {
        "colab": {
          "base_uri": "https://localhost:8080/",
          "height": 281
        },
        "id": "IbTqzNQmNv0X",
        "outputId": "634b7a4e-72fb-4137-f43f-849e0f0bfbb4"
      },
      "execution_count": 12,
      "outputs": [
        {
          "output_type": "display_data",
          "data": {
            "text/plain": [
              "<Figure size 432x288 with 1 Axes>"
            ],
            "image/png": "[encoded data removed]"
          },
          "metadata": {
            "needs_background": "light"
          }
        }
      ]
    },
    {
      "cell_type": "code",
      "source": [
        "# Separando os conjuntos de dados - treinamento e teste\n",
        "\n",
        "from sklearn.model_selection import train_test_split\n",
        "\n",
        "x_treino, x_teste, y_treino, y_teste = train_test_split(x,y,test_size=0.3, random_state=25)"
      ],
      "metadata": {
        "id": "F1QCCq3GN6QM"
      },
      "execution_count": 13,
      "outputs": []
    },
    {
      "cell_type": "code",
      "source": [
        "# Definindo o modelo da rede\n",
        "\n",
        "from keras.models import Sequential\n",
        "from keras.layers import Dense\n",
        "from keras.optimizers import Adam\n",
        "\n",
        "model = Sequential([\n",
        "    Dense(units=1, input_shape=(1,), activation='relu')\n",
        "    ])\n",
        "\n",
        "model.compile(optimizer=Adam(learning_rate=0.07), loss='mean_squared_error', )\n",
        "model.fit(x=x_treino, y=y_treino, epochs=50, validation_data=(x_teste, y_teste))"
      ],
      "metadata": {
        "colab": {
          "base_uri": "https://localhost:8080/"
        },
        "id": "v7MhL4fvPBQj",
        "outputId": "672c6b10-595e-4f5c-b5a4-c82d1bf33a56"
      },
      "execution_count": 22,
      "outputs": [
        {
          "output_type": "stream",
          "name": "stdout",
          "text": [
            "Epoch 1/50\n",
            "1/1 [==============================] - 1s 546ms/step - loss: 0.6698 - val_loss: 0.3936\n",
            "Epoch 2/50\n",
            "1/1 [==============================] - 0s 41ms/step - loss: 0.6139 - val_loss: 0.3588\n",
            "Epoch 3/50\n",
            "1/1 [==============================] - 0s 45ms/step - loss: 0.5787 - val_loss: 0.3423\n",
            "Epoch 4/50\n",
            "1/1 [==============================] - 0s 44ms/step - loss: 0.5629 - val_loss: 0.3406\n",
            "Epoch 5/50\n",
            "1/1 [==============================] - 0s 57ms/step - loss: 0.5621 - val_loss: 0.3475\n",
            "Epoch 6/50\n",
            "1/1 [==============================] - 0s 45ms/step - loss: 0.5701 - val_loss: 0.3559\n",
            "Epoch 7/50\n",
            "1/1 [==============================] - 0s 41ms/step - loss: 0.5795 - val_loss: 0.3602\n",
            "Epoch 8/50\n",
            "1/1 [==============================] - 0s 42ms/step - loss: 0.5845 - val_loss: 0.3598\n",
            "Epoch 9/50\n",
            "1/1 [==============================] - 0s 39ms/step - loss: 0.5842 - val_loss: 0.3556\n",
            "Epoch 10/50\n",
            "1/1 [==============================] - 0s 40ms/step - loss: 0.5797 - val_loss: 0.3498\n",
            "Epoch 11/50\n",
            "1/1 [==============================] - 0s 50ms/step - loss: 0.5732 - val_loss: 0.3443\n",
            "Epoch 12/50\n",
            "1/1 [==============================] - 0s 45ms/step - loss: 0.5666 - val_loss: 0.3407\n",
            "Epoch 13/50\n",
            "1/1 [==============================] - 0s 42ms/step - loss: 0.5617 - val_loss: 0.3396\n",
            "Epoch 14/50\n",
            "1/1 [==============================] - 0s 40ms/step - loss: 0.5593 - val_loss: 0.3411\n",
            "Epoch 15/50\n",
            "1/1 [==============================] - 0s 46ms/step - loss: 0.5593 - val_loss: 0.3442\n",
            "Epoch 16/50\n",
            "1/1 [==============================] - 0s 45ms/step - loss: 0.5611 - val_loss: 0.3478\n",
            "Epoch 17/50\n",
            "1/1 [==============================] - 0s 41ms/step - loss: 0.5638 - val_loss: 0.3505\n",
            "Epoch 18/50\n",
            "1/1 [==============================] - 0s 44ms/step - loss: 0.5661 - val_loss: 0.3516\n",
            "Epoch 19/50\n",
            "1/1 [==============================] - 0s 43ms/step - loss: 0.5669 - val_loss: 0.3508\n",
            "Epoch 20/50\n",
            "1/1 [==============================] - 0s 55ms/step - loss: 0.5661 - val_loss: 0.3488\n",
            "Epoch 21/50\n",
            "1/1 [==============================] - 0s 60ms/step - loss: 0.5642 - val_loss: 0.3461\n",
            "Epoch 22/50\n",
            "1/1 [==============================] - 0s 43ms/step - loss: 0.5618 - val_loss: 0.3435\n",
            "Epoch 23/50\n",
            "1/1 [==============================] - 0s 44ms/step - loss: 0.5596 - val_loss: 0.3416\n",
            "Epoch 24/50\n",
            "1/1 [==============================] - 0s 46ms/step - loss: 0.5585 - val_loss: 0.3407\n",
            "Epoch 25/50\n",
            "1/1 [==============================] - 0s 43ms/step - loss: 0.5586 - val_loss: 0.3407\n",
            "Epoch 26/50\n",
            "1/1 [==============================] - 0s 45ms/step - loss: 0.5594 - val_loss: 0.3411\n",
            "Epoch 27/50\n",
            "1/1 [==============================] - 0s 44ms/step - loss: 0.5604 - val_loss: 0.3415\n",
            "Epoch 28/50\n",
            "1/1 [==============================] - 0s 47ms/step - loss: 0.5613 - val_loss: 0.3417\n",
            "Epoch 29/50\n",
            "1/1 [==============================] - 0s 46ms/step - loss: 0.5616 - val_loss: 0.3416\n",
            "Epoch 30/50\n",
            "1/1 [==============================] - 0s 45ms/step - loss: 0.5613 - val_loss: 0.3413\n",
            "Epoch 31/50\n",
            "1/1 [==============================] - 0s 45ms/step - loss: 0.5606 - val_loss: 0.3410\n",
            "Epoch 32/50\n",
            "1/1 [==============================] - 0s 44ms/step - loss: 0.5597 - val_loss: 0.3409\n",
            "Epoch 33/50\n",
            "1/1 [==============================] - 0s 41ms/step - loss: 0.5589 - val_loss: 0.3413\n",
            "Epoch 34/50\n",
            "1/1 [==============================] - 0s 43ms/step - loss: 0.5584 - val_loss: 0.3420\n",
            "Epoch 35/50\n",
            "1/1 [==============================] - 0s 50ms/step - loss: 0.5585 - val_loss: 0.3428\n",
            "Epoch 36/50\n",
            "1/1 [==============================] - 0s 45ms/step - loss: 0.5590 - val_loss: 0.3434\n",
            "Epoch 37/50\n",
            "1/1 [==============================] - 0s 42ms/step - loss: 0.5594 - val_loss: 0.3437\n",
            "Epoch 38/50\n",
            "1/1 [==============================] - 0s 57ms/step - loss: 0.5596 - val_loss: 0.3435\n",
            "Epoch 39/50\n",
            "1/1 [==============================] - 0s 37ms/step - loss: 0.5596 - val_loss: 0.3430\n",
            "Epoch 40/50\n",
            "1/1 [==============================] - 0s 36ms/step - loss: 0.5592 - val_loss: 0.3422\n",
            "Epoch 41/50\n",
            "1/1 [==============================] - 0s 35ms/step - loss: 0.5587 - val_loss: 0.3414\n",
            "Epoch 42/50\n",
            "1/1 [==============================] - 0s 38ms/step - loss: 0.5585 - val_loss: 0.3409\n",
            "Epoch 43/50\n",
            "1/1 [==============================] - 0s 34ms/step - loss: 0.5585 - val_loss: 0.3405\n",
            "Epoch 44/50\n",
            "1/1 [==============================] - 0s 34ms/step - loss: 0.5586 - val_loss: 0.3403\n",
            "Epoch 45/50\n",
            "1/1 [==============================] - 0s 36ms/step - loss: 0.5588 - val_loss: 0.3402\n",
            "Epoch 46/50\n",
            "1/1 [==============================] - 0s 62ms/step - loss: 0.5590 - val_loss: 0.3402\n",
            "Epoch 47/50\n",
            "1/1 [==============================] - 0s 39ms/step - loss: 0.5590 - val_loss: 0.3402\n",
            "Epoch 48/50\n",
            "1/1 [==============================] - 0s 40ms/step - loss: 0.5590 - val_loss: 0.3402\n",
            "Epoch 49/50\n",
            "1/1 [==============================] - 0s 35ms/step - loss: 0.5589 - val_loss: 0.3403\n",
            "Epoch 50/50\n",
            "1/1 [==============================] - 0s 40ms/step - loss: 0.5587 - val_loss: 0.3405\n"
          ]
        },
        {
          "output_type": "execute_result",
          "data": {
            "text/plain": [
              "<keras.callbacks.History at 0x7f2b5401fac0>"
            ]
          },
          "metadata": {},
          "execution_count": 22
        }
      ]
    },
    {
      "cell_type": "code",
      "source": [
        "# visualiza predições\n",
        "\n",
        "def checa_predicoes(model, x, y):\n",
        "    y_pred = model.predict(x)\n",
        "    plt.scatter(x, y, c='b', alpha=0.5, label=\"Data\")\n",
        "    plt.scatter(x, y_pred, c='r', label=\"Model\")\n",
        "    plt.legend(loc=0)\n",
        "    plt.show()\n",
        "    \n",
        "checa_predicoes(model, x_treino, y_treino)"
      ],
      "metadata": {
        "colab": {
          "base_uri": "https://localhost:8080/",
          "height": 282
        },
        "id": "BZSsje9RQ3iV",
        "outputId": "cc6db92d-196e-4e5d-f4fe-cb5104ce808c"
      },
      "execution_count": 23,
      "outputs": [
        {
          "output_type": "stream",
          "name": "stdout",
          "text": [
            "1/1 [==============================] - 0s 79ms/step\n"
          ]
        },
        {
          "output_type": "display_data",
          "data": {
            "text/plain": [
              "<Figure size 432x288 with 1 Axes>"
            ],
            "image/png": "[encoded data removed]"
          },
          "metadata": {
            "needs_background": "light"
          }
        }
      ]
    }
  ]
}